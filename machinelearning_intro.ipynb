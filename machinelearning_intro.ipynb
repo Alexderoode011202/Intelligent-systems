{
 "cells": [
  {
   "cell_type": "markdown",
   "metadata": {},
   "source": [
    "# Intelligent Systems 2022: 10th  Practical Assignment\n",
    "## Machine Learning Introduction\n",
    "\n",
    "Your name: \n",
    "\n",
    "Your VUnetID: \n",
    "\n",
    "If you do not provide your name and VUnetID we will not accept your submission. \n",
    "\n",
    "### Preliminaries\n",
    "\n",
    "At the end of this exercise you should be able to work with some basic Machine Learning concepts, and implement and evaluate simple classifiers for *spam classification* using the popular machine learning library scikit-learn(https://scikit-learn.org/stable/).\n",
    "Scikit-learn offers a many helpful methods for creating simple machine learning models and to perform data science.\n",
    "\n",
    "In this assignment you will:\n",
    "1. Use pandas to read a dataset from a comma-separated-value (.csv) file.\n",
    "2. You should be able to create tf-idf feature vectors with scikit-learn.\n",
    "3. You should be able to create a simple classification and evaluate basic classification models.\n",
    "4. You should have learned to improve classification models for textual data.\n",
    "\n",
    "\n",
    "\n",
    "\n",
    "### Practicalities\n",
    "\n",
    "Follow this Notebook step-by-step. For this course it is necessary that you manipulate the python programmes we provide. You can do the exercises in any Programming Editor of your liking. Still, please fill in the questions in this notebook as usual. \n",
    "\n",
    "Please use your studentID+Assignment10.ipynb as the name of the Notebook, and fill in the missing cells.   \n",
    "\n",
    "Note: unlike the courses dedicated to programming we will not evaluate the style of the programs. But we will, however, test your programs on other data that we provide, and your program should give the correct output to the test-data as well.\n",
    "\n",
    "As was mentioned, the assignment is graded as pass/fail. To pass you need to have either a full working code or an explanation of what you tried and what didn't work for the tasks that you were unable to complete (you can use multi-line comments or a text cell).\n"
   ]
  },
  {
   "cell_type": "markdown",
   "metadata": {},
   "source": [
    "### Install some packages\n",
    "\n",
    "First we need to install some additional packages that we will use throughout this assignment.\n",
    "This might take a while.\n"
   ]
  },
  {
   "cell_type": "code",
   "execution_count": null,
   "metadata": {},
   "outputs": [],
   "source": [
    "!{sys.executable} -m pip install pandas\n",
    "!{sys.executable} -m pip install scikit-learn"
   ]
  },
  {
   "cell_type": "markdown",
   "metadata": {},
   "source": [
    "## Training classification models with Sci-Kit Learn.\n",
    "\n",
    "With this notebbook, you have downloaded a small .csv file containing a public spam/ham SMS dataset that is often used for text classification purposes.\n",
    "We will load this dataset with the pandas library (https://pandas.pydata.org/), which is often used for data analysis.\n",
    "\n",
    "#### Note that you might re-run the Notebook multiple times, because the *df* variable is overwritten multiple times."
   ]
  },
  {
   "cell_type": "code",
   "execution_count": null,
   "metadata": {},
   "outputs": [],
   "source": [
    "#load data\n",
    "import pandas as pd\n",
    "df = pd.read_csv ('spam.csv')\n",
    "df.dropna(how=\"any\", inplace=True, axis=1)\n",
    "df.columns = ['label', 'message']\n",
    "df.head()"
   ]
  },
  {
   "cell_type": "markdown",
   "metadata": {},
   "source": [
    "As you can see, the resulting pandas dataframe contains an index column, a label, and the message.\n",
    "Let's first have a look at the class distribution."
   ]
  },
  {
   "cell_type": "markdown",
   "metadata": {},
   "source": [
    "## Task 1\n",
    "\n",
    "For this first task, we ask you to do a basic data science task. Try to get an idea about the dataset by checking how balanced/unbalanced the dataset is. To do this, you need to compute the proportion of the *ham* and the *spam* class.\n",
    "\n",
    "Find a Pandas function to compute the frequency of the labels to get an idea of the label distribution. \n",
    "Then write a short description of your results.\n",
    "What percentage of the messages are labelled as spam?\n",
    "\n",
    "*Hint: Have a look at the Pandas documentation (https://pandas.pydata.org/docs/). There a many ways to get your answer!*"
   ]
  },
  {
   "cell_type": "code",
   "execution_count": null,
   "metadata": {},
   "outputs": [],
   "source": [
    "#Write your Code for task 1 here.\n"
   ]
  },
  {
   "cell_type": "code",
   "execution_count": null,
   "metadata": {},
   "outputs": [],
   "source": [
    "MyReport1 = \"\"\"\n",
    "Write your answer here.\n",
    "\"\"\""
   ]
  },
  {
   "cell_type": "markdown",
   "metadata": {},
   "source": [
    "The following code snipped will create textual features, as discussed in last weeks lecture. We will create tf-idf vectors and will append them to our pandas dataframe.\n",
    "Then we will perform a simple train/test split of our dataset, using the scikit-learn splitting functions.\n",
    "\n",
    "Have a look at the different parts that we created. What do the dataframes X_train, y_train, X_test, y_test contain?\n",
    "Try to understand what is happening here by also having a look at the scikit-learn documentation (https://scikit-learn.org/stable/)."
   ]
  },
  {
   "cell_type": "code",
   "execution_count": null,
   "metadata": {},
   "outputs": [],
   "source": [
    "#imports\n",
    "from sklearn.feature_extraction.text import TfidfVectorizer\n",
    "from sklearn.model_selection import train_test_split\n",
    "\n",
    "#compute the tf-idf vectors for the messages and create a new dataframe for them\n",
    "v = TfidfVectorizer()\n",
    "tf_idf = v.fit_transform(df['message'])\n",
    "df_tfidf = pd.DataFrame(tf_idf.toarray(), columns=v.get_feature_names())\n",
    "\n",
    "#combine the original dataframe with the dataframe for the tf-idf vectors\n",
    "dataframes = [df, df_tfidf]\n",
    "df_new = pd.concat(dataframes, axis=1)\n",
    "\n",
    "#split the dataset into training and test set\n",
    "train, test = train_test_split(df_new, test_size=0.9)\n",
    "\n",
    "#separate feature matrices X from label vector y\n",
    "X_train = train.iloc[:, 3:]\n",
    "X_test = test.iloc[:, 3:]\n",
    "y_train = train['label']\n",
    "y_test = test['label']\n"
   ]
  },
  {
   "cell_type": "code",
   "execution_count": null,
   "metadata": {},
   "outputs": [],
   "source": [
    "#let's have a look at the different dataframes here\n",
    "X_train"
   ]
  },
  {
   "cell_type": "markdown",
   "metadata": {},
   "source": [
    "## Naive Bayes Classification\n",
    "\n",
    "\n",
    "In the lecture, we have introduced the naive Bayes classification algorithm and have already computed various examples by hand. Here, we will use scikit-learn to train your first own classification model for spam classification.\n",
    "However, all examples from the lecture were using categorical features, while our tf-idf vectors here are real-valued features. \n",
    "Thus, the model used here will be slightly different than what we have seen in the lecture.\n",
    "\n",
    "\n",
    "\n",
    "### Task 2\n",
    "\n",
    "Use the training and test set created in the previous cell and train a Naive Bayes classifier using sci-kit learn.\n",
    "Please have a look at the documentation on how to use classification model using X_train and y_train as an input.\n",
    "Afterwards compute the accuracy of your classfier.\n"
   ]
  },
  {
   "cell_type": "code",
   "execution_count": null,
   "metadata": {},
   "outputs": [],
   "source": [
    "#Write your clasification code here. \n",
    "#Have a look at the documentation of scikit-learn. It contains many examples on how to use Naive Bayes."
   ]
  },
  {
   "cell_type": "markdown",
   "metadata": {},
   "source": [
    "As you might have seen, the accuracy of your Naive Bayes classifier should be over 95%.\n",
    "This seems to be a very good score, for a very simple classification model and simple tf-idf features.\n",
    "\n",
    "### Task 3\n",
    "\n",
    "Have a look at different evaluation metrics for your classifier and discuss the suitability of accuracy for the spam classification task.\n",
    "Have a look at the definition of accuracy and come up with another metric, which is better suited for our problem\n",
    "\n",
    "*Hint: Have a look at this documentation and try out different evaluation metrics: https://scikit-learn.org/stable/modules/model_evaluation.html#classification-metrics*"
   ]
  },
  {
   "cell_type": "code",
   "execution_count": null,
   "metadata": {},
   "outputs": [],
   "source": [
    "#try out other evaluation metrics here\n"
   ]
  },
  {
   "cell_type": "code",
   "execution_count": null,
   "metadata": {},
   "outputs": [],
   "source": [
    "MyReport2 = \"\"\"\n",
    "Write your answer here\n",
    "\"\"\""
   ]
  },
  {
   "cell_type": "markdown",
   "metadata": {},
   "source": [
    "### Task 4\n",
    "\n",
    "Come up with any improvements for the classification model here.\n",
    "You can come up with a new method and/or different features to improve the classification.\n",
    "Can you beat the baseline Naive Bayes model?\n",
    "\n",
    "If you try out a different classification model, the training of the model might take a couple of seconds.\n",
    "\n",
    "Write at least 10 sentences describing your improvements and why these improvements are helping to improve the model?"
   ]
  },
  {
   "cell_type": "code",
   "execution_count": null,
   "metadata": {},
   "outputs": [],
   "source": [
    "# Put your code here\n"
   ]
  },
  {
   "cell_type": "code",
   "execution_count": null,
   "metadata": {},
   "outputs": [],
   "source": [
    "MyReport3 = \"\"\"\n",
    "Answer here.\n",
    "\"\"\""
   ]
  },
  {
   "cell_type": "markdown",
   "metadata": {},
   "source": [
    "## Final Task: Collect all the results\n",
    "\n",
    "Uncomment and run this cell (and all the cells above) to generate the text file that you have to hand in together with the notebook on canvas!\n",
    "\n",
    "### Please hand in only the text file which is generated by this method!"
   ]
  },
  {
   "cell_type": "code",
   "execution_count": null,
   "metadata": {},
   "outputs": [],
   "source": [
    "from utils import *\n",
    "exportToText(\"assignment10.txt\", MyReport1, MyReport2, MyReport3)"
   ]
  }
 ],
 "metadata": {
  "kernelspec": {
   "display_name": "Python 3",
   "language": "python",
   "name": "python3"
  },
  "language_info": {
   "codemirror_mode": {
    "name": "ipython",
    "version": 3
   },
   "file_extension": ".py",
   "mimetype": "text/x-python",
   "name": "python",
   "nbconvert_exporter": "python",
   "pygments_lexer": "ipython3",
   "version": "3.8.8"
  }
 },
 "nbformat": 4,
 "nbformat_minor": 4
}
